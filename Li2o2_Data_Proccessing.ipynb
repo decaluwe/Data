{
 "cells": [
  {
   "cell_type": "markdown",
   "metadata": {},
   "source": [
    "# Li-O$_2$ Battery cycle data processing\n",
    "\n",
    "## Import necessary modules"
   ]
  },
  {
   "cell_type": "code",
   "execution_count": 226,
   "metadata": {},
   "outputs": [],
   "source": [
    "import pandas as pd\n",
    "import numpy as np\n",
    "import io\n",
    "import matplotlib.pyplot as plt\n",
    "import os"
   ]
  },
  {
   "cell_type": "markdown",
   "metadata": {},
   "source": [
    "## User inputs:"
   ]
  },
  {
   "cell_type": "code",
   "execution_count": 227,
   "metadata": {},
   "outputs": [],
   "source": [
    "#Reference https://www.fuelcellstore.com/avcarb-mgl190\n",
    "\n",
    "carb_area=(9**2)*np.pi #in mm^2\n",
    "carb_v =  carb_area*0.19 #in mm^3\n",
    "carb_den = 0.44*.001 #in g/mm^3\n",
    "porosity = 0.78\n",
    "carb_m = carb_v*carb_den*(1. - porosity) \n",
    "\n",
    "path = '/Users/decaluwe/OneDrive - Colorado School of Mines/CORES Research Group/Laboratory Resources/Gamry Data/Li-O2 Battery/08012019 - teflon no CB - repeat' #'C:/Users/Amy LeBar/Documents/Data'\n",
    "\n",
    "# Set equal to 1 to see a graph, 0 to hide it:\n",
    "flag_charge_discharge = 1\n",
    "flag_voltage_gap = 0\n",
    "\n",
    "# Number of cycles you are plotting:\n",
    "n_cycles = 10\n",
    "\n",
    "# Plot file name preamble:\n",
    "savename = 'teflon_noCB_'"
   ]
  },
  {
   "cell_type": "markdown",
   "metadata": {},
   "source": [
    "## Set up the color pallete and define the default font."
   ]
  },
  {
   "cell_type": "code",
   "execution_count": 228,
   "metadata": {},
   "outputs": [],
   "source": [
    "cmap = plt.get_cmap('plasma')\n",
    "ndata = 10\n",
    "color_ind = np.linspace(0,1,ndata)\n",
    "colors = list()\n",
    "\n",
    "for i in np.arange(n_cycles):\n",
    "    colors.append(cmap(color_ind[i]))\n",
    "\n",
    "color = colors[4]\n",
    "\n",
    "fontname = 'Times New Roman'\n",
    "\n",
    "\n",
    "cmap = plt.get_cmap('plasma')\n",
    "color_ind = np.linspace(0,1,n_cycles)\n",
    "colors = list()\n",
    "for i in np.arange(ndata):\n",
    "    colors.append(cmap(color_ind[i]))\n",
    "\n",
    "    \n",
    "fontname = 'Times New Roman'"
   ]
  },
  {
   "cell_type": "markdown",
   "metadata": {},
   "source": [
    "## Graphing function"
   ]
  },
  {
   "cell_type": "code",
   "execution_count": 234,
   "metadata": {},
   "outputs": [],
   "source": [
    "def graph(file):\n",
    "    Data = pd.read_table(file, sep='deliminator', engine='python', header=None)\n",
    "    Data.dropna(inplace = True)\n",
    "    Data = Data[0].str.split(\"\\t\", expand = True)\n",
    "\n",
    "    # This means we cut the data when the time is zero.  To look at full data, \n",
    "    # use d_row = list(D[0]).index('#') + 1\n",
    "    d_row = list(Data[1]).index('0') \n",
    "    Data = Data.iloc[d_row+1 : ,]\n",
    "\n",
    "    Data[1] = Data[1].astype(float) # Time [s]\n",
    "    Data[2] = Data[2].astype(float) # Voltage [V]\n",
    "    Data[3] = Data[3].astype(float) # Current [A]\n",
    "    \n",
    "    Data['capacity'] = Data[1] * abs(Data[3])/carb_m*1000/3600 #convert to mAh/g\n",
    "    title = file.split(\"_cycle\")\n",
    "    # Read out the cycle number:\n",
    "    title2 = title[1].split(\".\")\n",
    "    n_cycle = int(title2[0]) # cycle number\n",
    "    i_cycle = n_cycle - 1 #python indexing starts at zero.\n",
    "    \n",
    "    #---SCD NOTE: IN GENERAL, CAN YOU DOCUMENT THESE LINES? WHAT DO THEY DO?---#\n",
    "    for cell in Data[2]:\n",
    "        if cell > Data.iloc[0,2]:\n",
    "            row = list(Data[2]).index(cell)\n",
    "            newc=Data.iloc[row:,2]\n",
    "            Data['adjust']=newc\n",
    "            Data['charge']=Data['adjust'].shift(-1*row)\n",
    "            break\n",
    "   \n",
    "    Data['discharge'] = Data[2].where(Data[2]<=Data.iloc[0,2]) \n",
    "    \n",
    "    Discharge = Data[Data[3] > 0][:]\n",
    "    Charge = Data[Data[3] < 0][:]\n",
    "    discharge_capacity = max(Discharge['capacity'])\n",
    "    \n",
    "    Charge['capacity'] = Charge['capacity'].iloc[:] - discharge_capacity\n",
    "    charge_capacity = max(Charge['capacity'])\n",
    "    \n",
    "    \n",
    "            \n",
    "# =============================================================================\n",
    "#     if D.iloc[1,2] < 0:\n",
    "#         D['absolute'] = D[2]*-1\n",
    "#         plt.figure(3)\n",
    "#         plt.scatter(D[1], D['absolute'], marker='o', label = title2)\n",
    "#         plt.legend(framealpha=1, frameon=True);\n",
    "#         plt.xlabel('time (s)', fontsize=12)\n",
    "#         plt.ylabel('voltage (V)', fontsize=12)\n",
    "#     else:\n",
    "#         plt.figure(3)\n",
    "#         plt.scatter(D[1], D[2], marker='o', label = title2)\n",
    "#         plt.scatter(D[1], D['adjust'], marker='o', label = title2)\n",
    "#         plt.legend(framealpha=1, frameon=True);\n",
    "#         plt.xlabel('time (s)', fontsize=12)\n",
    "#         plt.ylabel('voltage (V)', fontsize=12)\n",
    "# =============================================================================\n",
    "        \n",
    "    plt.figure(0)\n",
    "    p, = plt.plot(Discharge['capacity'].iloc[:-1], -Discharge['charge'].iloc[:-1], \\\n",
    "            linewidth = 2., label = 'Cycle '+title2[0],color = colors[i_cycle], \\\n",
    "            zorder = 10*i_cycle)\n",
    "    plt.plot(Charge['capacity'], -Charge['discharge'], linewidth = 2., \\\n",
    "             label = '_nolegend_', color = colors[i_cycle], zorder = 10*i_cycle)\n",
    "    \n",
    "    Data['Voltgap'] = Data['charge'] -Data['discharge']\n",
    "    \n",
    "    Voltgap = Data.Voltgap.mean()\n",
    "    Voltgap2 = 5\n",
    "    return [Voltgap, Voltgap2, p, title2[0], discharge_capacity, charge_capacity]\n",
    "    plt.scatter(Data['capacity'], Data['Voltgap'], marker='o', label = title2)\n",
    "#    plt.figure(1)\n",
    "#    plt.scatter(D[1], D[3], marker='o')\n",
    "#    plt.xlabel('time (s)', fontsize=12)\n",
    "#    plt.ylabel('current (A)', fontsize=12)"
   ]
  },
  {
   "cell_type": "markdown",
   "metadata": {},
   "source": [
    "## Loop through cycle files in director and plot them:"
   ]
  },
  {
   "cell_type": "code",
   "execution_count": 256,
   "metadata": {},
   "outputs": [
    {
     "name": "stdout",
     "output_type": "stream",
     "text": [
      "LiO2_08012019_cycle8.DTA\n",
      "LiO2_08012019_cycle9.DTA\n",
      "LiO2_08012019_cycle10.DTA\n",
      "LiO2_08012019_cycle1.DTA\n",
      "LiO2_08012019_cycle2.DTA\n",
      "LiO2_08012019_cycle3.DTA\n",
      "LiO2_08012019_cycle7.DTA\n",
      "LiO2_08012019_cycle6.DTA\n",
      "LiO2_08012019_cycle4.DTA\n",
      "LiO2_08012019_cycle5.DTA\n"
     ]
    },
    {
     "data": {
      "image/png": "[encoded data removed]",
      "text/plain": [
       "<Figure size 216x162 with 1 Axes>"
      ]
     },
     "metadata": {
      "needs_background": "light"
     },
     "output_type": "display_data"
    },
    {
     "data": {
      "image/png": "[encoded data removed]",
      "text/plain": [
       "<Figure size 216x162 with 1 Axes>"
      ]
     },
     "metadata": {
      "needs_background": "light"
     },
     "output_type": "display_data"
    }
   ],
   "source": [
    "i=0\n",
    "iform =[]\n",
    "V = []\n",
    "V2 = []\n",
    "plots = {}\n",
    "\n",
    "fig1 = plt.figure(0)\n",
    "fig1.add_axes([0.2,0.25,0.78,0.73])\n",
    "fig1.set_size_inches((3,2.25)) \n",
    "\n",
    "plt.xlabel('Capacity (mAh/g)', fontsize=14, fontname = 'Times New Roman')\n",
    "plt.ylabel('Potential (V)', fontsize=14, fontname = 'Times New Roman')  \n",
    "\n",
    "discharge_capacities = np.zeros(n_cycles)\n",
    "charge_capacities = np.zeros(n_cycles)\n",
    "\n",
    "for file in os.listdir(path):\n",
    "    if file.find('cycle') > -1:\n",
    "        if file.find('EIS') < 0:\n",
    "            print(file)\n",
    "            Voltgap_1, Voltgap_2, p, n, cap_d, cap_c =graph(path + \"/\"+ file)\n",
    "            discharge_capacities[int(n)-1] = cap_d\n",
    "            charge_capacities[int(n) - 1] = cap_c\n",
    "            #print(Voltgap)\n",
    "            plots[n] = p\n",
    "            V.append(Voltgap_1)\n",
    "            V2.append(Voltgap_2)\n",
    "            iform.append(i)\n",
    "            i=i+1\n",
    "   \n",
    "\n",
    "plt.xticks([0.00,1.00,2.,3.,4., ])\n",
    "plt.yticks([2.,2.5,3.,3.5,4.,4.5])\n",
    "\n",
    "plt.xlim([0.,4.5])\n",
    "plt.ylim([1.75, 4.75])\n",
    "\n",
    "\n",
    "font = plt.matplotlib.font_manager.FontProperties(family=fontname,size=10,weight='normal')\n",
    "#plt.legend['Cycle 1', 'Cycle 2', 'Cycle 3', 'Cycle 4', 'Cycle 5', 'Cycle 6', 'Cycle 7',\\\n",
    "#            'Cycle 8', 'Cycle 9', 'Cycle 10'], frameon = False, columnspacing = 0.5, \\\n",
    "#           borderaxespad = 0.25, prop=font, ncol=2, handlelength=1.)\n",
    "legend_plots = []\n",
    "legend_strings = []\n",
    "for i in np.arange(n_cycles):\n",
    "    legend_plots.append(plots[str(i+1)])\n",
    "    legend_strings.append('Cycle '+str(i+1))\n",
    "    \n",
    "#legend_plot = (plots['1'], plots)\n",
    "plt.legend(legend_plots, legend_strings, frameon = False, columnspacing = 0.35, loc=(0.35,0.125), \\\n",
    "           borderaxespad = 0.25, handletextpad = 0.5, prop=font, ncol=2, handlelength=1.)\n",
    "\n",
    "# Get current axes handle:\n",
    "ax = plt.gca()\n",
    "\n",
    "#Format tick labels:\n",
    "for tick in ax.xaxis.get_major_ticks():\n",
    "    tick.label1.set_fontsize(12)\n",
    "    tick.label1.set_fontname('Times New Roman')\n",
    "\n",
    "for tick in ax.yaxis.get_major_ticks():\n",
    "    tick.label1.set_fontsize(12)\n",
    "    tick.label1.set_fontname('Times New Roman')\n",
    "\n",
    "plt.savefig(savename+'charge-discharge.pdf',format='pdf',dpi=350)\n",
    "       \n",
    "Report = pd.DataFrame()  \n",
    "Report['V1'] = V\n",
    "Report['V2'] = V2\n",
    "\n",
    "if flag_voltage_gap:\n",
    "    plt.figure(1)\n",
    "    plt.scatter(iform, Report['V1'], marker='o')\n",
    "\n",
    "    \n",
    "# Plot capacity vs. cycle number:    \n",
    "fig3 = plt.figure(2)\n",
    "fig3.add_axes([0.2,0.25,0.78,0.73])\n",
    "fig3.set_size_inches((3,2.25)) \n",
    "\n",
    "plt.xlabel('Cycle', fontsize=14, fontname = 'Times New Roman')\n",
    "plt.ylabel('Capacity (mAh/g)', fontsize=14, fontname = 'Times New Roman')\n",
    "\n",
    "plt.scatter(np.arange(n_cycles)+1,discharge_capacities,marker='o',color=colors[0])\n",
    "plt.scatter(np.arange(n_cycles)+1,charge_capacities,marker='o',color=colors[6])\n",
    "\n",
    "\n",
    "# Get current axes handle:\n",
    "ax = plt.gca()\n",
    "\n",
    "#Format tick labels:\n",
    "for tick in ax.xaxis.get_major_ticks():\n",
    "    tick.label1.set_fontsize(12)\n",
    "    tick.label1.set_fontname('Times New Roman')\n",
    "\n",
    "for tick in ax.yaxis.get_major_ticks():\n",
    "    tick.label1.set_fontsize(12)\n",
    "    tick.label1.set_fontname('Times New Roman')\n",
    "\n",
    "plt.xticks([1,2,3,4,5,6,7,8,9,10])\n",
    "plt.ylim([1.25, 3.25])\n",
    "plt.legend(['Discharge','Charge'], loc= 'lower right', frameon = False, prop=font, handletextpad = 0.01)\n",
    "\n",
    "plt.savefig(savename+'capacity-vs-cycle.pdf',format='pdf',dpi=350)\n",
    "\n",
    "plt.show()\n"
   ]
  },
  {
   "cell_type": "code",
   "execution_count": null,
   "metadata": {},
   "outputs": [],
   "source": []
  },
  {
   "cell_type": "code",
   "execution_count": null,
   "metadata": {},
   "outputs": [],
   "source": []
  },
  {
   "cell_type": "code",
   "execution_count": null,
   "metadata": {},
   "outputs": [],
   "source": []
  }
 ],
 "metadata": {
  "kernelspec": {
   "display_name": "Python 3",
   "language": "python",
   "name": "python3"
  },
  "language_info": {
   "codemirror_mode": {
    "name": "ipython",
    "version": 3
   },
   "file_extension": ".py",
   "mimetype": "text/x-python",
   "name": "python",
   "nbconvert_exporter": "python",
   "pygments_lexer": "ipython3",
   "version": "3.6.10"
  }
 },
 "nbformat": 4,
 "nbformat_minor": 4
}
